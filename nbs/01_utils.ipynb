{
 "cells": [
  {
   "cell_type": "markdown",
   "id": "51a4d8b8-afdd-439e-bd94-1073f5b047b0",
   "metadata": {},
   "source": [
    "# Utils\n",
    "\n",
    "> Add description here"
   ]
  },
  {
   "cell_type": "code",
   "execution_count": null,
   "id": "44f60a8a-7be1-4a78-9c2c-8fa0b66c7cab",
   "metadata": {},
   "outputs": [],
   "source": [
    "#| default_exp utils"
   ]
  },
  {
   "cell_type": "code",
   "execution_count": null,
   "id": "6f5987fe-1c2a-4f95-9a32-935d9fbedbff",
   "metadata": {},
   "outputs": [],
   "source": [
    "#| hide\n",
    "from nbdev.showdoc import *"
   ]
  },
  {
   "cell_type": "code",
   "execution_count": null,
   "id": "053cb147-ad9d-49e0-a7a9-5f267b00e895",
   "metadata": {},
   "outputs": [],
   "source": [
    "#| export\n",
    "\n",
    "import sys\n",
    "import pandas as pd\n",
    "import geopandas as gpd\n",
    "import numpy as np\n",
    "import rioxarray as rxr\n",
    "import xarray as xr\n",
    "import matplotlib.pyplot as plt\n",
    "from itertools import product\n",
    "from pathlib import Path\n",
    "import shapely\n",
    "import dask.array as da\n",
    "\n",
    "import rasterio as rio\n",
    "from rasterio.enums import Resampling\n"
   ]
  },
  {
   "cell_type": "code",
   "execution_count": null,
   "id": "4344a908-eb79-4891-be56-87371f2a118c",
   "metadata": {},
   "outputs": [],
   "source": [
    "#| export\n",
    "\n",
    "def set_cli_styles():\n",
    "    \"Set styles for logging\"\n",
    "    if sys.platform == 'win32':\n",
    "        green = red = blue = BOLD = RESET = \"\"\n",
    "    else:\n",
    "        green = \"\\033[92m\"\n",
    "        red = \"\\033[91m\"\n",
    "        blue = \"\\033[94m\"\n",
    "        BOLD = \"\\x1B[1m\"\n",
    "        RESET = \"\\x1b[0m\"\n",
    "    return green, red, blue, BOLD, RESET\n",
    "\n",
    "def format_cli_info(message, green=\"\", red=\"\", blue=\"\", BOLD=\"\", RESET=\"\"):\n",
    "    return BOLD + green + red + blue + message + RESET"
   ]
  },
  {
   "cell_type": "code",
   "execution_count": null,
   "id": "9b7455df-87c0-4e7d-a980-bf540e8d40fa",
   "metadata": {},
   "outputs": [],
   "source": []
  },
  {
   "cell_type": "code",
   "execution_count": null,
   "id": "88fd6847-9486-4e3d-8851-26ed5d454438",
   "metadata": {},
   "outputs": [],
   "source": []
  },
  {
   "cell_type": "code",
   "execution_count": null,
   "id": "e81634e8-3e1c-43c1-a930-409ba860db9e",
   "metadata": {},
   "outputs": [],
   "source": [
    "#| export\n",
    "\n",
    "def save_raster(x:xr.Dataset, name:Path, crs:str):\n",
    "    \"Save xarray dataset `x` as raster to `name`, using `crs`\"\n",
    "    if not np.all(x == np.zeros_like(x)):\n",
    "        x.rio.to_raster(name, compress='LZW', crs=crs, tiled=True, windowed=True)"
   ]
  },
  {
   "cell_type": "code",
   "execution_count": null,
   "id": "2d8f8ced-26f5-4da2-9d0c-90f55b844cf0",
   "metadata": {},
   "outputs": [],
   "source": []
  },
  {
   "cell_type": "code",
   "execution_count": null,
   "id": "f125950d-91ab-4fbc-9003-66340e2685b3",
   "metadata": {},
   "outputs": [],
   "source": [
    "#| export\n",
    "\n",
    "def create_qgis_colormap(outname:Path|str, classes:list[str], cm:str='tab20'):\n",
    "    \"Create a qgis colormap .txt -file to `outname` base don `classes`\"\n",
    "    cmap = plt.get_cmap(cm)\n",
    "    with open(outname, \"w\") as f:\n",
    "        for i, classname in enumerate(classes):\n",
    "            rgb = list((np.array(cmap(i)) * 255).astype(np.uint8))\n",
    "            f.write(str(i) + \" \")\n",
    "            f.writelines([str(x) + \" \" for x in rgb])\n",
    "            f.write(str(classname) + \"\\n\")"
   ]
  },
  {
   "cell_type": "code",
   "execution_count": null,
   "id": "ded988f3-746b-410c-a42c-21bdad99dc23",
   "metadata": {},
   "outputs": [],
   "source": []
  },
  {
   "cell_type": "code",
   "execution_count": null,
   "id": "9403814f-7657-4c19-9dab-6498b4a4b24c",
   "metadata": {},
   "outputs": [],
   "source": [
    "#| export\n",
    "\n",
    "def create_grid(xmin:float, ymin:float, xmax:float, ymax:float, cellsize:int) -> list[shapely.geometry.Polygon]:\n",
    "    \"Create a regular grid with `cellsize`x`cellsize` squares covering the provided extent\"\n",
    "\n",
    "    cells = [shapely.geometry.box(x, y, x-cellsize, y+cellsize) for x, y in\n",
    "             product(np.arange(xmin, xmax+cellsize, cellsize), \n",
    "                     np.arange(ymin, ymax+cellsize, cellsize))]\n",
    "    return cells"
   ]
  },
  {
   "cell_type": "code",
   "execution_count": null,
   "id": "122506c4-0be5-496d-b560-39a1d05c17b0",
   "metadata": {},
   "outputs": [],
   "source": [
    "#| export\n",
    "\n",
    "def check_cell(Fx:xr.Dataset, cell:shapely.geometry.Polygon) -> bool:\n",
    "    \"Check whether a location of `cell` is empty in `Fx`\"\n",
    "    try:\n",
    "        Ax = Fx.rio.clip([cell], from_disk=True)\n",
    "        return not da.all(Ax == da.zeros_like(Ax)).compute()\n",
    "    except NoDataInBounds:\n",
    "        return False\n",
    "    except ValueError:\n",
    "        return False"
   ]
  },
  {
   "cell_type": "code",
   "execution_count": null,
   "id": "1aec4a06-a98e-4937-9c3c-45abce5d23c6",
   "metadata": {},
   "outputs": [],
   "source": [
    "#| export\n",
    "\n",
    "def build_overviews(fname:Path|str, factors:list[int]=None):\n",
    "    \"Build overviews for raster located in `fname`, using `factors`. Default is factors from 2 to 512\"\n",
    "    if not factors: \n",
    "        factors = [2**(n+1) for n in range(9)]\n",
    "    dst = rio.open(fname, 'r+')\n",
    "    dst.build_overviews(factors, Resampling.nearest)\n",
    "    dst.update_tags(ns='rio_overview', resampling='nearest')\n",
    "    dst.close()\n",
    "    return"
   ]
  },
  {
   "cell_type": "code",
   "execution_count": null,
   "id": "219109c3-b9c4-40c9-bd61-79f15eeed2ed",
   "metadata": {},
   "outputs": [],
   "source": []
  }
 ],
 "metadata": {
  "kernelspec": {
   "display_name": "Python 3 (ipykernel)",
   "language": "python",
   "name": "python3"
  },
  "language_info": {
   "codemirror_mode": {
    "name": "ipython",
    "version": 3
   },
   "file_extension": ".py",
   "mimetype": "text/x-python",
   "name": "python",
   "nbconvert_exporter": "python",
   "pygments_lexer": "ipython3",
   "version": "3.11.4"
  }
 },
 "nbformat": 4,
 "nbformat_minor": 5
}
