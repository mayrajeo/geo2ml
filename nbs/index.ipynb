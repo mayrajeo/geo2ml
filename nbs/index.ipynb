{
 "cells": [
  {
   "cell_type": "code",
   "execution_count": null,
   "metadata": {},
   "outputs": [],
   "source": [
    "#| hide"
   ]
  },
  {
   "cell_type": "markdown",
   "metadata": {},
   "source": [
    "# geo2ml\n",
    "\n",
    "> Python library and module for converting earth observation data to be suitable for machine learning models"
   ]
  },
  {
   "cell_type": "markdown",
   "metadata": {},
   "source": [
    "- Sampling features from a raster using point geometries or polygons\n",
    "- Tiling larger rasters and shapefiles into smaller patches\n",
    "- Rasterizing polygon geometries for semantic segmentation tasks\n",
    "- Converting vector data to COCO and YOLO formats and creating required dataset files\n",
    "- Visualization of generated datasets"
   ]
  },
  {
   "cell_type": "markdown",
   "metadata": {},
   "source": [
    "## Install"
   ]
  },
  {
   "cell_type": "markdown",
   "metadata": {},
   "source": [
    "First install GDAL to your system. If you use conda then installing `rasterio` is enough, but with pip use instructions from [https://pypi.org/project/GDAL/](https://pypi.org/project/GDAL/).\n",
    "\n",
    "Then you can install the package by \n",
    "\n",
    "```bash\n",
    "pip install git+git://github.com/mayrajeo/geo2ml.git\n",
    "```\n",
    "\n",
    "If you want to have an editable install then first clone the repository\n",
    "\n",
    "```bash\n",
    "git clone https://github.com/mayrajeo/geo2ml.git\n",
    "cd geo2ml\n",
    "pip install -e .\n",
    "```"
   ]
  },
  {
   "cell_type": "markdown",
   "metadata": {},
   "source": [
    "## How to use"
   ]
  },
  {
   "cell_type": "markdown",
   "metadata": {},
   "source": [
    "Running `geo2ml_help` shows all available commands. Documentation for each command is found by running for example `geo2ml_sample_points --help`"
   ]
  }
 ],
 "metadata": {
  "kernelspec": {
   "display_name": "python3",
   "language": "python",
   "name": "python3"
  }
 },
 "nbformat": 4,
 "nbformat_minor": 4
}
