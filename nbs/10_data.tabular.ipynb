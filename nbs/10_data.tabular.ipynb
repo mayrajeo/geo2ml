{
 "cells": [
  {
   "cell_type": "markdown",
   "id": "69e9c829-a154-4540-a84b-d15e62b7c209",
   "metadata": {},
   "source": [
    "# Tabular data\n",
    "\n",
    "> Utilities to process remote sensing image data into tabular format"
   ]
  },
  {
   "cell_type": "code",
   "execution_count": null,
   "id": "b4ae1f56-56b2-450c-821a-8d2010db2f84",
   "metadata": {},
   "outputs": [],
   "source": [
    "#| default_exp data.tabular"
   ]
  },
  {
   "cell_type": "code",
   "execution_count": null,
   "id": "da2bfdb3-e0ac-4090-a216-c6a9a6da1563",
   "metadata": {},
   "outputs": [],
   "source": [
    "#| hide\n",
    "from nbdev.showdoc import *\n",
    "from fastcore.test import *"
   ]
  },
  {
   "cell_type": "code",
   "execution_count": null,
   "id": "c94bddcc-82b3-4fae-98c8-cd748d42ad93",
   "metadata": {},
   "outputs": [],
   "source": [
    "#| export\n",
    "from fastcore.basics import *\n",
    "import rasterio as rio\n",
    "import pandas as pd\n",
    "import numpy as np\n",
    "import geopandas as gpd\n",
    "import logging\n",
    "from rasterstats import zonal_stats\n",
    "from pathlib import Path"
   ]
  },
  {
   "cell_type": "code",
   "execution_count": null,
   "id": "370786cd-ec42-4e36-8c82-e6e61cf0ceb9",
   "metadata": {},
   "outputs": [],
   "source": [
    "example_data_path= Path('example_data')\n",
    "example_points = example_data_path/'points/points.geojson'\n",
    "example_polys = example_data_path/'polygons/polygons.geojson'\n",
    "example_raster = example_data_path/'s2_lataseno_ex.tif'"
   ]
  },
  {
   "cell_type": "markdown",
   "id": "2004113e-e45e-4b98-8998-d84e609b1ecc",
   "metadata": {},
   "source": [
    "## Data conversion and processing"
   ]
  },
  {
   "cell_type": "markdown",
   "id": "0594692b-c9b1-4a87-82da-59e5fe41bdc9",
   "metadata": {},
   "source": [
    "Utility functions to process dataframes."
   ]
  },
  {
   "cell_type": "code",
   "execution_count": null,
   "id": "5072721f-fbd4-488b-b4f5-0212f1f788f0",
   "metadata": {},
   "outputs": [],
   "source": [
    "#| export\n",
    "\n",
    "def array_to_longform(a:pd.DataFrame, columns:list) -> pd.DataFrame:\n",
    "    \"Convert pd.DataFrame `a` to longform array\"\n",
    "    dfa = pd.DataFrame(data=a, columns=columns)\n",
    "    dfa = dfa.reset_index()\n",
    "    return dfa.melt(id_vars=[\"index\"], ignore_index=False)"
   ]
  },
  {
   "cell_type": "code",
   "execution_count": null,
   "id": "c07fa698-c175-4e3d-9489-67d46cfda2ab",
   "metadata": {},
   "outputs": [],
   "source": [
    "#| export\n",
    "\n",
    "def drop_small_classes(df:pd.DataFrame, min_class_size:int, target_column:str|int=0) -> pd.DataFrame:\n",
    "    \"Drop rows from the dataframe if their `target_column` value has less instances than `min_class_size\"\n",
    "    if type(target_column) == int:\n",
    "        target = df.columns[0]\n",
    "    else:\n",
    "        target = target_column\n",
    "    drop_classes = df[target].value_counts()[df[target].value_counts() < min_class_size].index.values\n",
    "    drop_series = ~df[target].isin(drop_classes)\n",
    "    logging.info(f'Classes with less than {min_class_size} were dropped:')\n",
    "    logging.info(drop_classes)\n",
    "    return df.loc[drop_series, :]"
   ]
  },
  {
   "cell_type": "markdown",
   "id": "565e1cac-c4cb-4299-8750-99dc3278e810",
   "metadata": {},
   "source": [
    "Generate random data to test."
   ]
  },
  {
   "cell_type": "code",
   "execution_count": null,
   "id": "ff54f5e7-266d-4ad3-ac42-d6711e77d810",
   "metadata": {},
   "outputs": [
    {
     "data": {
      "text/plain": [
       "label\n",
       "4    32\n",
       "3    23\n",
       "2    22\n",
       "9    21\n",
       "1    21\n",
       "6    21\n",
       "5    21\n",
       "8    21\n",
       "7    18\n",
       "Name: count, dtype: int64"
      ]
     },
     "execution_count": null,
     "metadata": {},
     "output_type": "execute_result"
    }
   ],
   "source": [
    "ex_df = pd.DataFrame({'label': np.random.randint(1, 10, 200)})\n",
    "ex_df.label.value_counts()"
   ]
  },
  {
   "cell_type": "markdown",
   "id": "b7b56d06-b23d-4350-b860-1e1565db72ec",
   "metadata": {},
   "source": [
    "Column name can be either specified with string or int. If not provided it defaults to first column."
   ]
  },
  {
   "cell_type": "code",
   "execution_count": null,
   "id": "3d8f94e3-4e34-43db-b647-8922cc27585e",
   "metadata": {},
   "outputs": [
    {
     "data": {
      "text/plain": [
       "label\n",
       "4    32\n",
       "3    23\n",
       "2    22\n",
       "9    21\n",
       "1    21\n",
       "6    21\n",
       "5    21\n",
       "8    21\n",
       "Name: count, dtype: int64"
      ]
     },
     "execution_count": null,
     "metadata": {},
     "output_type": "execute_result"
    }
   ],
   "source": [
    "filtered = drop_small_classes(ex_df, 20, 'label')\n",
    "assert filtered.label.value_counts().min() >= 20\n",
    "filtered.label.value_counts()"
   ]
  },
  {
   "cell_type": "markdown",
   "id": "ab978219-34f4-4b26-90b8-b8eaac54b3c3",
   "metadata": {},
   "source": [
    "If not specified, defaults to first column."
   ]
  },
  {
   "cell_type": "code",
   "execution_count": null,
   "id": "d4f4d28b-3f27-485c-9e1c-aed6c3d22291",
   "metadata": {},
   "outputs": [
    {
     "data": {
      "text/plain": [
       "label\n",
       "4    32\n",
       "3    23\n",
       "2    22\n",
       "9    21\n",
       "1    21\n",
       "6    21\n",
       "5    21\n",
       "8    21\n",
       "Name: count, dtype: int64"
      ]
     },
     "execution_count": null,
     "metadata": {},
     "output_type": "execute_result"
    }
   ],
   "source": [
    "filtered = drop_small_classes(ex_df, 20)\n",
    "filtered.label.value_counts()"
   ]
  },
  {
   "cell_type": "markdown",
   "id": "2b01b370-6c92-40ca-81da-af1e277250a6",
   "metadata": {},
   "source": [
    "## Sampling utilities"
   ]
  },
  {
   "cell_type": "markdown",
   "id": "c6ca07c6-6d41-437c-8235-d1e100a95eb2",
   "metadata": {},
   "source": [
    "These functions enable sampling of raster values using either point or polygon features. "
   ]
  },
  {
   "cell_type": "code",
   "execution_count": null,
   "id": "1f3598c5-4ea5-4840-8df8-fe0fe03d769d",
   "metadata": {},
   "outputs": [],
   "source": [
    "#| export\n",
    "\n",
    "def sample_raster_with_points(sampling_locations:Path, \n",
    "                              input_raster:Path, \n",
    "                              target_column:str,\n",
    "                              gpkg_layer:str=None,\n",
    "                              band_names:list[str]=None, \n",
    "                              rename_target:str=None) -> gpd.GeoDataFrame:\n",
    "    \"Extract values from `input_raster` using points from `sampling_locations`. Returns a `gpd.GeoDataFrame` with columns `target_column`, `geometry` and bands\"\n",
    "\n",
    "    if str(sampling_locations).endswith('gpkg') and not gpkg_layer:\n",
    "        raise Exception(\n",
    "           '`sampling_locations` is .gpkg but no `gpkg_layer` specified'\n",
    "        )\n",
    "    \n",
    "    gdf = gpd.read_file(sampling_locations, layer=gpkg_layer)\n",
    "\n",
    "    with rio.open(input_raster) as src:\n",
    "        if src.gcps[1]: in_crs = src.gcps[1]\n",
    "        else: in_crs = src.crs\n",
    "        gdf = gdf.to_crs(in_crs)\n",
    "        coords = [(x,y) for x,y in zip(gdf.geometry.x, gdf.geometry.y)]\n",
    "        values = np.array([p for p in src.sample(coords)])\n",
    "        prof = src.profile\n",
    "\n",
    "    bands = [f'band_{i}' for i in range_of(values[0])]\n",
    "\n",
    "    out_gdf = gdf[[target_column, 'geometry']].copy()\n",
    "    \n",
    "    if band_names:\n",
    "        assert len(bands) == len(band_names), f'Mismatch provided band names ({len(band_names)}) and number of bands in raster ({len(bands)})'\n",
    "        bands = band_names\n",
    "\n",
    "    if target_column in bands:\n",
    "        if not rename_target:\n",
    "            raise Exception(\n",
    "                \"One of the band names is the same as target column. Provide rename_target\"\n",
    "                )\n",
    "        out_gdf.rename(columns={target_column: rename_target}, inplace=True)\n",
    "    elif rename_target:\n",
    "        out_gdf.rename(columns={target_column: rename_target}, inplace=True)\n",
    "        \n",
    "    for i, b in enumerate(bands):\n",
    "        out_gdf[b] = values[:,i].astype(prof['dtype'])\n",
    "    return out_gdf"
   ]
  },
  {
   "cell_type": "markdown",
   "id": "7f34d119-cea8-4eeb-95bb-8ed1ab82ac7c",
   "metadata": {},
   "source": [
    "`sample_raster_with_points` is an utility to sample point values from a raster and get the results into a `gpd.GeoDataFrame`. "
   ]
  },
  {
   "cell_type": "code",
   "execution_count": null,
   "id": "45f6f8f5-e32e-4e57-a7ed-19f7feac5b66",
   "metadata": {},
   "outputs": [],
   "source": [
    "#| hide\n",
    "\n",
    "# tests\n",
    "test_fail(sample_raster_with_points, args=('test.gpkg', example_raster, 'id'))\n",
    "test_fail(sample_raster_with_points, args=(example_points, example_raster, 'id', None, ['id']*9))"
   ]
  },
  {
   "cell_type": "code",
   "execution_count": null,
   "id": "03691f12-72fb-4d6b-ad66-e28ef5023bda",
   "metadata": {},
   "outputs": [
    {
     "data": {
      "text/html": [
       "<div>\n",
       "<style scoped>\n",
       "    .dataframe tbody tr th:only-of-type {\n",
       "        vertical-align: middle;\n",
       "    }\n",
       "\n",
       "    .dataframe tbody tr th {\n",
       "        vertical-align: top;\n",
       "    }\n",
       "\n",
       "    .dataframe thead th {\n",
       "        text-align: right;\n",
       "    }\n",
       "</style>\n",
       "<table border=\"1\" class=\"dataframe\">\n",
       "  <thead>\n",
       "    <tr style=\"text-align: right;\">\n",
       "      <th></th>\n",
       "      <th>id</th>\n",
       "      <th>geometry</th>\n",
       "      <th>band_0</th>\n",
       "      <th>band_1</th>\n",
       "      <th>band_2</th>\n",
       "      <th>band_3</th>\n",
       "      <th>band_4</th>\n",
       "      <th>band_5</th>\n",
       "      <th>band_6</th>\n",
       "      <th>band_7</th>\n",
       "      <th>band_8</th>\n",
       "    </tr>\n",
       "  </thead>\n",
       "  <tbody>\n",
       "    <tr>\n",
       "      <th>0</th>\n",
       "      <td>10.0</td>\n",
       "      <td>POINT (311760.599 7604880.391)</td>\n",
       "      <td>334</td>\n",
       "      <td>591</td>\n",
       "      <td>439</td>\n",
       "      <td>1204</td>\n",
       "      <td>2651</td>\n",
       "      <td>3072</td>\n",
       "      <td>3177</td>\n",
       "      <td>2070</td>\n",
       "      <td>1046</td>\n",
       "    </tr>\n",
       "    <tr>\n",
       "      <th>1</th>\n",
       "      <td>14.0</td>\n",
       "      <td>POINT (312667.464 7605426.442)</td>\n",
       "      <td>183</td>\n",
       "      <td>359</td>\n",
       "      <td>282</td>\n",
       "      <td>759</td>\n",
       "      <td>1742</td>\n",
       "      <td>2002</td>\n",
       "      <td>2037</td>\n",
       "      <td>1392</td>\n",
       "      <td>669</td>\n",
       "    </tr>\n",
       "    <tr>\n",
       "      <th>2</th>\n",
       "      <td>143.0</td>\n",
       "      <td>POINT (313619.160 7604550.762)</td>\n",
       "      <td>281</td>\n",
       "      <td>478</td>\n",
       "      <td>427</td>\n",
       "      <td>900</td>\n",
       "      <td>1976</td>\n",
       "      <td>2315</td>\n",
       "      <td>2423</td>\n",
       "      <td>2139</td>\n",
       "      <td>1069</td>\n",
       "    </tr>\n",
       "    <tr>\n",
       "      <th>3</th>\n",
       "      <td>172.0</td>\n",
       "      <td>POINT (311989.967 7605411.190)</td>\n",
       "      <td>287</td>\n",
       "      <td>530</td>\n",
       "      <td>393</td>\n",
       "      <td>1078</td>\n",
       "      <td>2446</td>\n",
       "      <td>2761</td>\n",
       "      <td>2978</td>\n",
       "      <td>1949</td>\n",
       "      <td>950</td>\n",
       "    </tr>\n",
       "    <tr>\n",
       "      <th>4</th>\n",
       "      <td>224.0</td>\n",
       "      <td>POINT (313386.009 7604304.917)</td>\n",
       "      <td>204</td>\n",
       "      <td>379</td>\n",
       "      <td>327</td>\n",
       "      <td>753</td>\n",
       "      <td>1524</td>\n",
       "      <td>1747</td>\n",
       "      <td>1771</td>\n",
       "      <td>1322</td>\n",
       "      <td>663</td>\n",
       "    </tr>\n",
       "  </tbody>\n",
       "</table>\n",
       "</div>"
      ],
      "text/plain": [
       "      id                        geometry  band_0  band_1  band_2  band_3  \\\n",
       "0   10.0  POINT (311760.599 7604880.391)     334     591     439    1204   \n",
       "1   14.0  POINT (312667.464 7605426.442)     183     359     282     759   \n",
       "2  143.0  POINT (313619.160 7604550.762)     281     478     427     900   \n",
       "3  172.0  POINT (311989.967 7605411.190)     287     530     393    1078   \n",
       "4  224.0  POINT (313386.009 7604304.917)     204     379     327     753   \n",
       "\n",
       "   band_4  band_5  band_6  band_7  band_8  \n",
       "0    2651    3072    3177    2070    1046  \n",
       "1    1742    2002    2037    1392     669  \n",
       "2    1976    2315    2423    2139    1069  \n",
       "3    2446    2761    2978    1949     950  \n",
       "4    1524    1747    1771    1322     663  "
      ]
     },
     "execution_count": null,
     "metadata": {},
     "output_type": "execute_result"
    }
   ],
   "source": [
    "out_gdf = sample_raster_with_points(example_points, example_raster, 'id')\n",
    "out_gdf.head()"
   ]
  },
  {
   "cell_type": "markdown",
   "id": "9ba86349-d9a2-4fdb-9011-1a3fbb21fb13",
   "metadata": {},
   "source": [
    "It is also possible to provide `band_names` to rename the columns."
   ]
  },
  {
   "cell_type": "code",
   "execution_count": null,
   "id": "057f9935-4f2f-4083-9c9a-f58e5639152c",
   "metadata": {},
   "outputs": [
    {
     "data": {
      "text/html": [
       "<div>\n",
       "<style scoped>\n",
       "    .dataframe tbody tr th:only-of-type {\n",
       "        vertical-align: middle;\n",
       "    }\n",
       "\n",
       "    .dataframe tbody tr th {\n",
       "        vertical-align: top;\n",
       "    }\n",
       "\n",
       "    .dataframe thead th {\n",
       "        text-align: right;\n",
       "    }\n",
       "</style>\n",
       "<table border=\"1\" class=\"dataframe\">\n",
       "  <thead>\n",
       "    <tr style=\"text-align: right;\">\n",
       "      <th></th>\n",
       "      <th>id</th>\n",
       "      <th>geometry</th>\n",
       "      <th>blue</th>\n",
       "      <th>green</th>\n",
       "      <th>red</th>\n",
       "      <th>red_edge1</th>\n",
       "      <th>red_edge2</th>\n",
       "      <th>nir</th>\n",
       "      <th>narrow_nir</th>\n",
       "      <th>swir1</th>\n",
       "      <th>swir2</th>\n",
       "    </tr>\n",
       "  </thead>\n",
       "  <tbody>\n",
       "    <tr>\n",
       "      <th>0</th>\n",
       "      <td>10.0</td>\n",
       "      <td>POINT (311760.599 7604880.391)</td>\n",
       "      <td>334</td>\n",
       "      <td>591</td>\n",
       "      <td>439</td>\n",
       "      <td>1204</td>\n",
       "      <td>2651</td>\n",
       "      <td>3072</td>\n",
       "      <td>3177</td>\n",
       "      <td>2070</td>\n",
       "      <td>1046</td>\n",
       "    </tr>\n",
       "    <tr>\n",
       "      <th>1</th>\n",
       "      <td>14.0</td>\n",
       "      <td>POINT (312667.464 7605426.442)</td>\n",
       "      <td>183</td>\n",
       "      <td>359</td>\n",
       "      <td>282</td>\n",
       "      <td>759</td>\n",
       "      <td>1742</td>\n",
       "      <td>2002</td>\n",
       "      <td>2037</td>\n",
       "      <td>1392</td>\n",
       "      <td>669</td>\n",
       "    </tr>\n",
       "    <tr>\n",
       "      <th>2</th>\n",
       "      <td>143.0</td>\n",
       "      <td>POINT (313619.160 7604550.762)</td>\n",
       "      <td>281</td>\n",
       "      <td>478</td>\n",
       "      <td>427</td>\n",
       "      <td>900</td>\n",
       "      <td>1976</td>\n",
       "      <td>2315</td>\n",
       "      <td>2423</td>\n",
       "      <td>2139</td>\n",
       "      <td>1069</td>\n",
       "    </tr>\n",
       "    <tr>\n",
       "      <th>3</th>\n",
       "      <td>172.0</td>\n",
       "      <td>POINT (311989.967 7605411.190)</td>\n",
       "      <td>287</td>\n",
       "      <td>530</td>\n",
       "      <td>393</td>\n",
       "      <td>1078</td>\n",
       "      <td>2446</td>\n",
       "      <td>2761</td>\n",
       "      <td>2978</td>\n",
       "      <td>1949</td>\n",
       "      <td>950</td>\n",
       "    </tr>\n",
       "    <tr>\n",
       "      <th>4</th>\n",
       "      <td>224.0</td>\n",
       "      <td>POINT (313386.009 7604304.917)</td>\n",
       "      <td>204</td>\n",
       "      <td>379</td>\n",
       "      <td>327</td>\n",
       "      <td>753</td>\n",
       "      <td>1524</td>\n",
       "      <td>1747</td>\n",
       "      <td>1771</td>\n",
       "      <td>1322</td>\n",
       "      <td>663</td>\n",
       "    </tr>\n",
       "  </tbody>\n",
       "</table>\n",
       "</div>"
      ],
      "text/plain": [
       "      id                        geometry  blue  green  red  red_edge1  \\\n",
       "0   10.0  POINT (311760.599 7604880.391)   334    591  439       1204   \n",
       "1   14.0  POINT (312667.464 7605426.442)   183    359  282        759   \n",
       "2  143.0  POINT (313619.160 7604550.762)   281    478  427        900   \n",
       "3  172.0  POINT (311989.967 7605411.190)   287    530  393       1078   \n",
       "4  224.0  POINT (313386.009 7604304.917)   204    379  327        753   \n",
       "\n",
       "   red_edge2   nir  narrow_nir  swir1  swir2  \n",
       "0       2651  3072        3177   2070   1046  \n",
       "1       1742  2002        2037   1392    669  \n",
       "2       1976  2315        2423   2139   1069  \n",
       "3       2446  2761        2978   1949    950  \n",
       "4       1524  1747        1771   1322    663  "
      ]
     },
     "execution_count": null,
     "metadata": {},
     "output_type": "execute_result"
    }
   ],
   "source": [
    "band_names = ['blue', 'green', 'red', 'red_edge1', 'red_edge2', 'nir', 'narrow_nir', 'swir1', 'swir2']\n",
    "out_gdf = sample_raster_with_points(example_points, example_raster, 'id', band_names=band_names)\n",
    "out_gdf.head()"
   ]
  },
  {
   "cell_type": "markdown",
   "id": "e23e4e3b-f3f6-4136-a1c1-45442be94e37",
   "metadata": {},
   "source": [
    "Or rename target column"
   ]
  },
  {
   "cell_type": "code",
   "execution_count": null,
   "id": "89746967-3c5a-4fcf-bdda-0fcdfa6d388b",
   "metadata": {},
   "outputs": [
    {
     "data": {
      "text/html": [
       "<div>\n",
       "<style scoped>\n",
       "    .dataframe tbody tr th:only-of-type {\n",
       "        vertical-align: middle;\n",
       "    }\n",
       "\n",
       "    .dataframe tbody tr th {\n",
       "        vertical-align: top;\n",
       "    }\n",
       "\n",
       "    .dataframe thead th {\n",
       "        text-align: right;\n",
       "    }\n",
       "</style>\n",
       "<table border=\"1\" class=\"dataframe\">\n",
       "  <thead>\n",
       "    <tr style=\"text-align: right;\">\n",
       "      <th></th>\n",
       "      <th>target</th>\n",
       "      <th>geometry</th>\n",
       "      <th>band_0</th>\n",
       "      <th>band_1</th>\n",
       "      <th>band_2</th>\n",
       "      <th>band_3</th>\n",
       "      <th>band_4</th>\n",
       "      <th>band_5</th>\n",
       "      <th>band_6</th>\n",
       "      <th>band_7</th>\n",
       "      <th>band_8</th>\n",
       "    </tr>\n",
       "  </thead>\n",
       "  <tbody>\n",
       "    <tr>\n",
       "      <th>0</th>\n",
       "      <td>10.0</td>\n",
       "      <td>POINT (311760.599 7604880.391)</td>\n",
       "      <td>334</td>\n",
       "      <td>591</td>\n",
       "      <td>439</td>\n",
       "      <td>1204</td>\n",
       "      <td>2651</td>\n",
       "      <td>3072</td>\n",
       "      <td>3177</td>\n",
       "      <td>2070</td>\n",
       "      <td>1046</td>\n",
       "    </tr>\n",
       "    <tr>\n",
       "      <th>1</th>\n",
       "      <td>14.0</td>\n",
       "      <td>POINT (312667.464 7605426.442)</td>\n",
       "      <td>183</td>\n",
       "      <td>359</td>\n",
       "      <td>282</td>\n",
       "      <td>759</td>\n",
       "      <td>1742</td>\n",
       "      <td>2002</td>\n",
       "      <td>2037</td>\n",
       "      <td>1392</td>\n",
       "      <td>669</td>\n",
       "    </tr>\n",
       "    <tr>\n",
       "      <th>2</th>\n",
       "      <td>143.0</td>\n",
       "      <td>POINT (313619.160 7604550.762)</td>\n",
       "      <td>281</td>\n",
       "      <td>478</td>\n",
       "      <td>427</td>\n",
       "      <td>900</td>\n",
       "      <td>1976</td>\n",
       "      <td>2315</td>\n",
       "      <td>2423</td>\n",
       "      <td>2139</td>\n",
       "      <td>1069</td>\n",
       "    </tr>\n",
       "    <tr>\n",
       "      <th>3</th>\n",
       "      <td>172.0</td>\n",
       "      <td>POINT (311989.967 7605411.190)</td>\n",
       "      <td>287</td>\n",
       "      <td>530</td>\n",
       "      <td>393</td>\n",
       "      <td>1078</td>\n",
       "      <td>2446</td>\n",
       "      <td>2761</td>\n",
       "      <td>2978</td>\n",
       "      <td>1949</td>\n",
       "      <td>950</td>\n",
       "    </tr>\n",
       "    <tr>\n",
       "      <th>4</th>\n",
       "      <td>224.0</td>\n",
       "      <td>POINT (313386.009 7604304.917)</td>\n",
       "      <td>204</td>\n",
       "      <td>379</td>\n",
       "      <td>327</td>\n",
       "      <td>753</td>\n",
       "      <td>1524</td>\n",
       "      <td>1747</td>\n",
       "      <td>1771</td>\n",
       "      <td>1322</td>\n",
       "      <td>663</td>\n",
       "    </tr>\n",
       "  </tbody>\n",
       "</table>\n",
       "</div>"
      ],
      "text/plain": [
       "   target                        geometry  band_0  band_1  band_2  band_3  \\\n",
       "0    10.0  POINT (311760.599 7604880.391)     334     591     439    1204   \n",
       "1    14.0  POINT (312667.464 7605426.442)     183     359     282     759   \n",
       "2   143.0  POINT (313619.160 7604550.762)     281     478     427     900   \n",
       "3   172.0  POINT (311989.967 7605411.190)     287     530     393    1078   \n",
       "4   224.0  POINT (313386.009 7604304.917)     204     379     327     753   \n",
       "\n",
       "   band_4  band_5  band_6  band_7  band_8  \n",
       "0    2651    3072    3177    2070    1046  \n",
       "1    1742    2002    2037    1392     669  \n",
       "2    1976    2315    2423    2139    1069  \n",
       "3    2446    2761    2978    1949     950  \n",
       "4    1524    1747    1771    1322     663  "
      ]
     },
     "execution_count": null,
     "metadata": {},
     "output_type": "execute_result"
    }
   ],
   "source": [
    "out_gdf = sample_raster_with_points(example_points, example_raster, 'id', rename_target='target')\n",
    "out_gdf.head()"
   ]
  },
  {
   "cell_type": "code",
   "execution_count": null,
   "id": "bd4aeb72-2829-4c2a-b509-8a1898e1b8ff",
   "metadata": {},
   "outputs": [],
   "source": [
    "#| export \n",
    "\n",
    "def sample_raster_with_polygons(sampling_locations:Path, \n",
    "                                input_raster:Path, \n",
    "                                target_column:str=None,\n",
    "                                gpkg_layer:str=None,\n",
    "                                band_names:list[str]=None,\n",
    "                                rename_target:str=None,\n",
    "                                stats:list[str]=['min', 'max', 'mean', 'count'],\n",
    "                                categorical:bool=False\n",
    "    ) -> gpd.GeoDataFrame:\n",
    "    \"Extract values from `input_raster` using polygons from `sampling_locations` with `rasterstats.zonal_stats` for all bands\"\n",
    "\n",
    "    if str(sampling_locations).endswith('gpkg') and not gpkg_layer:\n",
    "        raise Exception(\n",
    "           '`sampling_locations` is .gpkg but no `gpkg_layer` specified'\n",
    "        )\n",
    "    \n",
    "    gdf = gpd.read_file(sampling_locations, layer=gpkg_layer)\n",
    "    with rio.open(input_raster) as src:\n",
    "        if src.gcps[1]: in_crs = src.gcps[1]\n",
    "        else: in_crs = src.crs\n",
    "        gdf = gdf.to_crs(in_crs)\n",
    "        n_bands = src.count\n",
    "        prof = src.profile\n",
    "    zstats = []\n",
    "    for i in range(n_bands):\n",
    "        zstats.append(zonal_stats(gdf, input_raster, band_num=i+1, categorical=categorical, stats=stats, nodata=-999))\n",
    "\n",
    "    out_gdf = gdf[[target_column, 'geometry']].copy()\n",
    "    \n",
    "    bands = [f'band_{i}' for i in range(n_bands)]\n",
    "\n",
    "    if band_names:\n",
    "        assert len(bands) == len(band_names), f'Mismatch provided band names ({len(band_names)}) and number of bands in raster ({len(bands)})'\n",
    "        bands = band_names\n",
    "\n",
    "    if target_column in bands:\n",
    "        if not rename_target:\n",
    "            raise Exception(\n",
    "                \"One of the band names is the same as target column. Provide rename_target\"\n",
    "            )\n",
    "        out_gdf.rename(columns={target_column: rename_target}, inplace=True)\n",
    "    elif rename_target:\n",
    "        out_gdf.rename(columns={target_column: rename_target}, inplace=True)\n",
    "\n",
    "    for i, b in enumerate(bands):\n",
    "        temp = pd.json_normalize(data=zstats[i])\n",
    "        temp.rename(columns={c: f'{b}_{c}' for c in temp.columns}, inplace=True)\n",
    "        out_gdf = out_gdf.join(temp)\n",
    "\n",
    "    return out_gdf"
   ]
  },
  {
   "cell_type": "code",
   "execution_count": null,
   "id": "bb34e5f7-830d-4944-807e-5da0fbe27814",
   "metadata": {},
   "outputs": [],
   "source": [
    "#| hide\n",
    "\n",
    "# tests\n",
    "test_fail(sample_raster_with_polygons, args=('test.gpkg', example_raster, 'id'))\n",
    "test_fail(sample_raster_with_polygons, args=(example_points, example_raster, 'id', None, ['id']*9))"
   ]
  },
  {
   "cell_type": "markdown",
   "id": "8cb2fbbe-f04d-4eb2-9ffc-b46f53c2fca7",
   "metadata": {},
   "source": [
    "Example polygons here are previous points buffered by 40 meters."
   ]
  },
  {
   "cell_type": "code",
   "execution_count": null,
   "id": "00bbf81d-cd04-470d-b0c9-f1604f2128fc",
   "metadata": {},
   "outputs": [
    {
     "data": {
      "text/plain": [
       "id                                                           10.0\n",
       "geometry        MULTIPOLYGON (((311800.59915342694 7604880.390...\n",
       "band_0_min                                                  266.0\n",
       "band_0_max                                                  415.0\n",
       "band_0_mean                                            335.708333\n",
       "band_0_count                                                   48\n",
       "band_1_min                                                  351.0\n",
       "band_1_max                                                  696.0\n",
       "band_1_mean                                              582.1875\n",
       "band_1_count                                                   48\n",
       "band_2_min                                                  412.0\n",
       "band_2_max                                                  699.0\n",
       "band_2_mean                                            524.520833\n",
       "band_2_count                                                   48\n",
       "band_3_min                                                  885.0\n",
       "band_3_max                                                 1462.0\n",
       "band_3_mean                                              1237.125\n",
       "band_3_count                                                   48\n",
       "band_4_min                                                 1310.0\n",
       "band_4_max                                                 2888.0\n",
       "band_4_mean                                           2479.291667\n",
       "band_4_count                                                   48\n",
       "band_5_min                                                 1565.0\n",
       "band_5_max                                                 3317.0\n",
       "band_5_mean                                               2880.25\n",
       "band_5_count                                                   48\n",
       "band_6_min                                                 1579.0\n",
       "band_6_max                                                 3665.0\n",
       "band_6_mean                                           3127.166667\n",
       "band_6_count                                                   48\n",
       "band_7_min                                                 1860.0\n",
       "band_7_max                                                 2214.0\n",
       "band_7_mean                                           2076.895833\n",
       "band_7_count                                                   48\n",
       "band_8_min                                                 1024.0\n",
       "band_8_max                                                 1144.0\n",
       "band_8_mean                                              1075.375\n",
       "band_8_count                                                   48\n",
       "Name: 0, dtype: object"
      ]
     },
     "execution_count": null,
     "metadata": {},
     "output_type": "execute_result"
    }
   ],
   "source": [
    "out_gdf = sample_raster_with_polygons(example_polys, example_raster, 'id')\n",
    "out_gdf.iloc[0]"
   ]
  },
  {
   "cell_type": "markdown",
   "id": "e02adcec-3f5d-4c3e-89eb-7026d7facb27",
   "metadata": {},
   "source": [
    "As `sample_raster_with_polygons` utilizes `rasterstats.zonal_statistics`, all stats supported by it can be provided with parameter `stats`. More information [here](https://pythonhosted.org/rasterstats/manual.html#zonal-statistics)."
   ]
  },
  {
   "cell_type": "code",
   "execution_count": null,
   "id": "c552b61a-4812-444b-b8db-2d5a4ddb9500",
   "metadata": {},
   "outputs": [
    {
     "data": {
      "text/plain": [
       "id                                                            10.0\n",
       "geometry         MULTIPOLYGON (((311800.59915342694 7604880.390...\n",
       "band_0_min                                                   266.0\n",
       "band_0_max                                                   415.0\n",
       "band_0_sum                                                 16114.0\n",
       "band_0_median                                                338.0\n",
       "band_0_range                                                 149.0\n",
       "band_1_min                                                   351.0\n",
       "band_1_max                                                   696.0\n",
       "band_1_sum                                                 27945.0\n",
       "band_1_median                                                590.0\n",
       "band_1_range                                                 345.0\n",
       "band_2_min                                                   412.0\n",
       "band_2_max                                                   699.0\n",
       "band_2_sum                                                 25177.0\n",
       "band_2_median                                                524.0\n",
       "band_2_range                                                 287.0\n",
       "band_3_min                                                   885.0\n",
       "band_3_max                                                  1462.0\n",
       "band_3_sum                                                 59382.0\n",
       "band_3_median                                               1255.5\n",
       "band_3_range                                                 577.0\n",
       "band_4_min                                                  1310.0\n",
       "band_4_max                                                  2888.0\n",
       "band_4_sum                                                119006.0\n",
       "band_4_median                                               2625.5\n",
       "band_4_range                                                1578.0\n",
       "band_5_min                                                  1565.0\n",
       "band_5_max                                                  3317.0\n",
       "band_5_sum                                                138252.0\n",
       "band_5_median                                               3020.5\n",
       "band_5_range                                                1752.0\n",
       "band_6_min                                                  1579.0\n",
       "band_6_max                                                  3665.0\n",
       "band_6_sum                                                150104.0\n",
       "band_6_median                                               3270.5\n",
       "band_6_range                                                2086.0\n",
       "band_7_min                                                  1860.0\n",
       "band_7_max                                                  2214.0\n",
       "band_7_sum                                                 99691.0\n",
       "band_7_median                                               2087.0\n",
       "band_7_range                                                 354.0\n",
       "band_8_min                                                  1024.0\n",
       "band_8_max                                                  1144.0\n",
       "band_8_sum                                                 51618.0\n",
       "band_8_median                                               1070.0\n",
       "band_8_range                                                 120.0\n",
       "Name: 0, dtype: object"
      ]
     },
     "execution_count": null,
     "metadata": {},
     "output_type": "execute_result"
    }
   ],
   "source": [
    "out_gdf = sample_raster_with_polygons(example_polys, example_raster, 'id', stats=['min', 'max', 'sum', 'median', 'range'])\n",
    "out_gdf.iloc[0]"
   ]
  }
 ],
 "metadata": {
  "kernelspec": {
   "display_name": "conda-env-point-eo-dev-py",
   "language": "python",
   "name": "conda-env-point-eo-dev-py"
  }
 },
 "nbformat": 4,
 "nbformat_minor": 5
}
